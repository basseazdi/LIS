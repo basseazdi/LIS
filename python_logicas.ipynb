{
 "cells": [
  {
   "cell_type": "markdown",
   "id": "4a1ef597-71d2-4517-afcf-5cb4dfe6e4ae",
   "metadata": {},
   "source": [
    "Ejercicio 1\n",
    "Crear una función, llamada week_start_date que calcula la fecha de comienzo de la\n",
    "semana a la que pertenece una fecha dada.\n",
    "La función que recibe dos parámetros:\n",
    "• date, que es una cadena que recoge una fecha en el format dd/mm/yyyy\n",
    "• y on_monday que es un booleano que indica si el inicio de semana se\n",
    "considera el lunes (True) o domingo (False). En el primer caso se considera\n",
    "que la semana va de lunes a domingo, mientras que en el segundo de domingo\n",
    "a lunes."
   ]
  },
  {
   "cell_type": "code",
   "execution_count": null,
   "id": "46796128-1332-4a9b-9a85-67d8ac02f2ef",
   "metadata": {
    "execution": {
     "iopub.execute_input": "2025-03-16T16:20:14.979761Z",
     "iopub.status.busy": "2025-03-16T16:20:14.979612Z",
     "iopub.status.idle": "2025-03-16T16:20:14.985449Z",
     "shell.execute_reply": "2025-03-16T16:20:14.985128Z",
     "shell.execute_reply.started": "2025-03-16T16:20:14.979746Z"
    },
    "executionRoleArn": "arn:aws:iam::021504464831:role/obdl-pro-esp-ds-explore-emr-ec2-Role",
    "tags": []
   },
   "outputs": [
    {
     "name": "stdout",
     "output_type": "stream",
     "text": [
      "16/03/2025\n",
      "10/03/2025\n"
     ]
    }
   ],
   "source": [
    "def week_start_date(date, on_monday):\n",
    "    from datetime import datetime, timedelta\n",
    "    date = datetime.strptime(date, '%d/%m/%Y')\n",
    "    if on_monday:\n",
    "        while date.weekday() != 0:\n",
    "            date = date - timedelta(days=1)\n",
    "    else:\n",
    "        while date.weekday() != 6:\n",
    "            date = date - timedelta(days=1)\n",
    "    return date.strftime('%d/%m/%Y')\n",
    "\n",
    "print(week_start_date('16/03/2025', False))\n",
    "print(week_start_date('16/03/2025', True))"
   ]
  },
  {
   "cell_type": "markdown",
   "id": "ae5e667f-4930-4576-99e0-e9ab59422e54",
   "metadata": {},
   "source": [
    "Se pide: Cargar dicha información en un programa Python usando pandas para\n",
    "almacenar los datos. Toma y justifica las decisiones de diseño y almacenamiento\n",
    "que consideres adecuadas para almacenar toda la información contenida en el json de\n",
    "la manera óptima."
   ]
  },
  {
   "cell_type": "code",
   "execution_count": null,
   "id": "6581cb1e-3ed1-4562-aee6-75bcff8eb863",
   "metadata": {
    "execution": {
     "iopub.execute_input": "2025-03-16T16:22:55.450316Z",
     "iopub.status.busy": "2025-03-16T16:22:55.449875Z",
     "iopub.status.idle": "2025-03-16T16:22:55.461611Z",
     "shell.execute_reply": "2025-03-16T16:22:55.461279Z",
     "shell.execute_reply.started": "2025-03-16T16:22:55.450298Z"
    },
    "executionRoleArn": "arn:aws:iam::021504464831:role/obdl-pro-esp-ds-explore-emr-ec2-Role",
    "tags": []
   },
   "outputs": [
    {
     "name": "stdout",
     "output_type": "stream",
     "text": [
      "                                 name        lat       lon  number  cci_code  \\\n",
      "0  Central London Employment Tribunal  51.515816 -0.118745     NaN       NaN   \n",
      "\n",
      "   magistrate_code                                          addresses  \n",
      "0              NaN  [{'address_lines': ['Victory House', '30-34 Ki...  \n"
     ]
    },
    {
     "name": "stderr",
     "output_type": "stream",
     "text": [
      "/tmp/ipykernel_14/2985973526.py:26: FutureWarning: Passing literal json to 'read_json' is deprecated and will be removed in a future version. To read from a literal string, wrap it in a 'StringIO' object.\n",
      "  df = pd.read_json(json_str)\n"
     ]
    }
   ],
   "source": [
    "import pandas as pd\n",
    "json_str = '''\n",
    "[\n",
    "    {\n",
    "        \"name\": \"Central London Employment Tribunal\",\n",
    "        \"lat\": 51.5158158439741,\n",
    "        \"lon\": -0.118745425821452,\n",
    "        \"number\": null,\n",
    "        \"cci_code\": null,\n",
    "        \"magistrate_code\": null,\n",
    "        \"addresses\": [\n",
    "            {\n",
    "                \"address_lines\": [\n",
    "                    \"Victory House\",\n",
    "                    \"30-34 Kingsway\"\n",
    "                ],\n",
    "                \"postcode\": \"WC2B 6EX\",\n",
    "                \"town\": \"London\",\n",
    "                \"type\": \"Visiting\"\n",
    "            }\n",
    "        ]\n",
    "    }\n",
    "]\n",
    "'''\n",
    "\n",
    "df = pd.read_json(json_str)\n",
    "print(df)"
   ]
  },
  {
   "cell_type": "markdown",
   "id": "3d6cc58b-b8cb-4215-a9a2-27d1b7226ec0",
   "metadata": {},
   "source": [
    "La siguiente función no funciona correctamente. Debería sumar todos los números a la\n",
    "hora actual. Por ejemplo, 01:02:03 debería devolver 6. Corrige y mejora la función\n",
    "como consideres. En un fichero .py aparte, escribe las pruebas unitarias para ella. \n",
    "Utiliza cualquier framework de pruebas con el que estés familiarizado (por ejemplo\n",
    "pytest)."
   ]
  },
  {
   "cell_type": "code",
   "execution_count": null,
   "id": "6a8177ad-5996-41cf-9fa7-cf3b7c216a46",
   "metadata": {
    "execution": {
     "iopub.execute_input": "2025-03-16T16:33:33.049988Z",
     "iopub.status.busy": "2025-03-16T16:33:33.049609Z",
     "iopub.status.idle": "2025-03-16T16:33:33.066520Z",
     "shell.execute_reply": "2025-03-16T16:33:33.066062Z",
     "shell.execute_reply.started": "2025-03-16T16:33:33.049971Z"
    },
    "executionRoleArn": "arn:aws:iam::021504464831:role/obdl-pro-esp-ds-explore-emr-ec2-Role",
    "tags": []
   },
   "outputs": [
    {
     "ename": "TypeError",
     "evalue": "unsupported operand type(s) for +: 'int' and 'str'",
     "output_type": "error",
     "traceback": [
      "\u001b[0;31m---------------------------------------------------------------------------\u001b[0m",
      "\u001b[0;31mTypeError\u001b[0m                                 Traceback (most recent call last)",
      "Cell \u001b[0;32mIn[3], line 11\u001b[0m\n\u001b[1;32m      8\u001b[0m     list_of_nums \u001b[38;5;241m=\u001b[39m time_str\u001b[38;5;241m.\u001b[39msplit(\u001b[38;5;124m\"\u001b[39m\u001b[38;5;124m:\u001b[39m\u001b[38;5;124m\"\u001b[39m)\n\u001b[1;32m      9\u001b[0m     \u001b[38;5;28;01mreturn\u001b[39;00m \u001b[38;5;28msum\u001b[39m(list_of_nums)\n\u001b[0;32m---> 11\u001b[0m \u001b[43msum_current_time\u001b[49m\u001b[43m(\u001b[49m\u001b[38;5;124;43m'\u001b[39;49m\u001b[38;5;124;43m01:02:03\u001b[39;49m\u001b[38;5;124;43m'\u001b[39;49m\u001b[43m)\u001b[49m\n",
      "Cell \u001b[0;32mIn[3], line 9\u001b[0m, in \u001b[0;36msum_current_time\u001b[0;34m(time_str)\u001b[0m\n\u001b[1;32m      3\u001b[0m \u001b[38;5;250m\u001b[39m\u001b[38;5;124;03m\"\"\"\u001b[39;00m\n\u001b[1;32m      4\u001b[0m \u001b[38;5;124;03mEsta función suma todos los números de la fecha (formato\u001b[39;00m\n\u001b[1;32m      5\u001b[0m \u001b[38;5;124;03mHH:MM:SS) que se recibe como parámetro y devuelve el\u001b[39;00m\n\u001b[1;32m      6\u001b[0m \u001b[38;5;124;03mresultado.\u001b[39;00m\n\u001b[1;32m      7\u001b[0m \u001b[38;5;124;03m\"\"\"\u001b[39;00m\n\u001b[1;32m      8\u001b[0m list_of_nums \u001b[38;5;241m=\u001b[39m time_str\u001b[38;5;241m.\u001b[39msplit(\u001b[38;5;124m\"\u001b[39m\u001b[38;5;124m:\u001b[39m\u001b[38;5;124m\"\u001b[39m)\n\u001b[0;32m----> 9\u001b[0m \u001b[38;5;28;01mreturn\u001b[39;00m \u001b[38;5;28;43msum\u001b[39;49m\u001b[43m(\u001b[49m\u001b[43mlist_of_nums\u001b[49m\u001b[43m)\u001b[49m\n",
      "\u001b[0;31mTypeError\u001b[0m: unsupported operand type(s) for +: 'int' and 'str'"
     ]
    }
   ],
   "source": [
    "# [TODO]: fix the function\n",
    "def sum_current_time(time_str: str) -> int:\n",
    "    \"\"\"\n",
    "    Esta función suma todos los números de la fecha (formato\n",
    "    HH:MM:SS) que se recibe como parámetro y devuelve el\n",
    "    resultado.\n",
    "    \"\"\"\n",
    "    list_of_nums = time_str.split(\":\")\n",
    "    return sum(list_of_nums)\n",
    "\n",
    "sum_current_time('01:02:03')"
   ]
  },
  {
   "cell_type": "code",
   "execution_count": 7,
   "id": "617e7e13-85d5-4165-8ade-dcc1aa26aaa4",
   "metadata": {
    "execution": {
     "iopub.execute_input": "2025-03-20T15:53:57.015556Z",
     "iopub.status.busy": "2025-03-20T15:53:57.015122Z",
     "iopub.status.idle": "2025-03-20T15:53:57.024024Z",
     "shell.execute_reply": "2025-03-20T15:53:57.023403Z",
     "shell.execute_reply.started": "2025-03-20T15:53:57.015529Z"
    },
    "executionRoleArn": "arn:aws:iam::021504464831:role/obdl-pro-esp-ds-explore-emr-ec2-Role",
    "tags": []
   },
   "outputs": [
    {
     "data": {
      "text/plain": [
       "6"
      ]
     },
     "execution_count": 7,
     "metadata": {},
     "output_type": "execute_result"
    }
   ],
   "source": [
    "# Funcion corregida:\n",
    "def sum_current_time(time_str: str) -> int:\n",
    "    \"\"\"\n",
    "    Esta función suma todos los números de la fecha (formato\n",
    "    HH:MM:SS) que se recibe como parámetro y devuelve el\n",
    "    resultado.\n",
    "    \"\"\"\n",
    "    list_of_nums_str = time_str.split(\":\")\n",
    "    list_of_nums_int = [int(item) for item in list_of_nums_str]\n",
    "\n",
    "    return sum(list_of_nums_int)\n",
    "\n",
    "sum_current_time('01:02:03')"
   ]
  },
  {
   "cell_type": "code",
   "execution_count": 8,
   "id": "c3c45eb5-9430-4ff6-b470-174723a3ff53",
   "metadata": {
    "execution": {
     "iopub.execute_input": "2025-03-20T15:53:59.000588Z",
     "iopub.status.busy": "2025-03-20T15:53:59.000104Z",
     "iopub.status.idle": "2025-03-20T15:53:59.004989Z",
     "shell.execute_reply": "2025-03-20T15:53:59.004325Z",
     "shell.execute_reply.started": "2025-03-20T15:53:59.000552Z"
    },
    "executionRoleArn": "arn:aws:iam::021504464831:role/obdl-pro-esp-ds-explore-emr-ec2-Role",
    "tags": []
   },
   "outputs": [],
   "source": [
    "import pytest\n",
    "\n",
    "def test_sum_current_time():\n",
    "    # Test cases\n",
    "    assert sum_current_time('01:02:03') == 6\n",
    "    assert sum_current_time('10:20:30') == 60\n",
    "    assert sum_current_time('00:00:00') == 0\n",
    "    assert sum_current_time('12:34:56') == 102\n",
    "    assert sum_current_time('23:59:59') == 141\n",
    "    \n",
    "    # Edge cases\n",
    "    assert sum_current_time('24:00:00') == 24  "
   ]
  },
  {
   "cell_type": "code",
   "execution_count": 9,
   "id": "ec26a082-1da9-4b71-b44a-2fb5f5468ea9",
   "metadata": {
    "execution": {
     "iopub.execute_input": "2025-03-20T15:54:00.950627Z",
     "iopub.status.busy": "2025-03-20T15:54:00.950190Z",
     "iopub.status.idle": "2025-03-20T15:54:00.953998Z",
     "shell.execute_reply": "2025-03-20T15:54:00.953379Z",
     "shell.execute_reply.started": "2025-03-20T15:54:00.950598Z"
    },
    "executionRoleArn": "arn:aws:iam::021504464831:role/obdl-pro-esp-ds-explore-emr-ec2-Role",
    "tags": []
   },
   "outputs": [],
   "source": [
    "test_sum_current_time()"
   ]
  }
 ],
 "metadata": {
  "kernelspec": {
   "display_name": "Python 3",
   "language": "python",
   "name": "python3_toledo"
  },
  "language_info": {
   "codemirror_mode": {
    "name": "ipython",
    "version": 3
   },
   "file_extension": ".py",
   "mimetype": "text/x-python",
   "name": "python",
   "nbconvert_exporter": "python",
   "pygments_lexer": "ipython3",
   "version": "3.9.16"
  }
 },
 "nbformat": 4,
 "nbformat_minor": 5
}
