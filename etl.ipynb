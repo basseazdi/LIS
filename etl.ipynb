import pandas as pd

# Cargar los datos
invoice_header = pd.read_csv('Invoice_header.csv')
invoice_products = pd.read_csv('Invoice_products.csv')
products = pd.read_csv('Products.csv')
suppliers = pd.read_csv('Suppliers.csv')
daily_currencies = pd.read_csv('Daily_currencies.csv')

# Limpiar y transformar los datos
# Convertir fechas a datetime
invoice_header['order_date'] = pd.to_datetime(invoice_header['order_date'])
invoice_header['receipt_date'] = pd.to_datetime(invoice_header['receipt_date'])
invoice_header['invoice_date'] = pd.to_datetime(invoice_header['invoice_date'])

# Merge de datos para obtener información completa de las facturas
invoice_data = pd.merge(invoice_products, invoice_header, on='invoice_id')
invoice_data = pd.merge(invoice_data, products, on='product_id')
invoice_data = pd.merge(invoice_data, suppliers, on='supplier_id')

# Calcular el importe en EUR
invoice_data = pd.merge(invoice_data, daily_currencies, left_on=['currency', 'invoice_date'], right_on=['currency', 'date'])
invoice_data['amount_eur'] = invoice_data['price'] * invoice_data['quantity'] * invoice_data['exchange_rate']

# Calcular Lead Time real
invoice_data['lead_time_real'] = (invoice_data['receipt_date'] - invoice_data['order_date']).dt.days

# Calcular Lead Time teórico
def calculate_theoretical_lead_time(row):
    if row['country'] == 'Spain':
        return 10
    elif row['currency'] == 'EUR':
        return 20
    else:
        return 45

invoice_data['lead_time_theoretical'] = invoice_data.apply(calculate_theoretical_lead_time, axis=1)

# Agregar datos para obtener métricas
# Importe total de compras diarias por sección
daily_purchases = invoice_data.groupby(['invoice_date', 'section'])['amount_eur'].sum().reset_index()

# Ranking de proveedores por importe total comprado y número de productos distintos
supplier_ranking = invoice_data.groupby('supplier_id').agg({
    'amount_eur': 'sum',
    'product_id': 'nunique'
}).reset_index()

# Media anual de lead time por producto-proveedor
invoice_data['order_year'] = invoice_data['order_date'].dt.year
annual_lead_time = invoice_data.groupby(['supplier_id', 'product_id', 'order_year']).agg({
    'lead_time_real': 'mean',
    'lead_time_theoretical': 'mean'
}).reset_index()

# Guardar las tablas del datamart en ficheros
daily_purchases.to_csv('daily_purchases.csv', index=False)
supplier_ranking.to_csv('supplier_ranking.csv', index=False)
annual_lead_time.to_csv('annual_lead_time.csv', index=False)

# Opcional: Incorporar análisis mensualizado en comparación con el presupuesto
purchase_budget = pd.read_excel('purchase_budget.xls')
invoice_data['invoice_month'] = invoice_data['invoice_date'].dt.to_period('M')
monthly_purchases = invoice_data.groupby(['invoice_month', 'section'])['amount_eur'].sum().reset_index()
budget_comparison = pd.merge(monthly_purchases, purchase_budget, on=['invoice_month', 'section'], how='left')
budget_comparison.to_csv('budget_comparison.csv', index=False)
