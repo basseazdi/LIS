{
  "cells": [
    {
      "cell_type": "markdown",
      "id": "91a4d198",
      "metadata": {
        "id": "91a4d198"
      },
      "source": [
        "# Prueba Técnica DS\n",
        "\n",
        "El proposito de esta prueba técnica es comprobar si el candidato posee conocimientos de Python (básico y aplicados a ML). Desde Python 3, aconsejamos usar las siguientes librerias (salvo que se indique lo contrario): **numpy, pandas, matplotlib**\n",
        "\n"
      ]
    },
    {
      "cell_type": "markdown",
      "id": "e294cb01",
      "metadata": {
        "id": "e294cb01"
      },
      "source": [
        "## Bloque 1: Python general"
      ]
    },
    {
      "cell_type": "markdown",
      "id": "c28d98a3",
      "metadata": {
        "id": "c28d98a3"
      },
      "source": [
        "### 1.1: Escribe una función que te devuelva una matriz de números aleatorios entre 1 y 100 con 2 decimales. El número de filas y columnas de la matriz será determinado por sendos parámetros. Utiliza la función para crear una matriz de 10 filas y 7 columnas.\n",
        "<font color=\"#9E1B32\">**(No utilices NUMPY ni PANDAS en este apartado 1.1, en los demás puedes usarlo)**</font>\n"
      ]
    },
    {
      "cell_type": "code",
      "execution_count": 1,
      "id": "aa7d50ee",
      "metadata": {
        "execution": {
          "iopub.execute_input": "2025-03-19T15:50:51.447471Z",
          "iopub.status.busy": "2025-03-19T15:50:51.447034Z",
          "iopub.status.idle": "2025-03-19T15:50:51.460818Z",
          "shell.execute_reply": "2025-03-19T15:50:51.460205Z",
          "shell.execute_reply.started": "2025-03-19T15:50:51.447440Z"
        },
        "executionRoleArn": "arn:aws:iam::021504464831:role/obdl-pro-esp-ds-explore-emr-ec2-Role",
        "tags": [],
        "colab": {
          "base_uri": "https://localhost:8080/"
        },
        "id": "aa7d50ee",
        "outputId": "4c154a70-aaf0-4f99-cd05-523fe2384e8a"
      },
      "outputs": [
        {
          "output_type": "execute_result",
          "data": {
            "text/plain": [
              "[[84.08, 76.64, 91.68, 45.47, 46.22, 41.0, 51.46],\n",
              " [79.79, 90.69, 9.28, 85.25, 84.52, 12.42, 23.17],\n",
              " [70.88, 55.6, 63.22, 96.32, 38.84, 83.66, 98.14],\n",
              " [82.86, 84.0, 35.12, 28.08, 49.43, 30.87, 78.15],\n",
              " [38.91, 20.28, 40.94, 34.56, 38.39, 85.95, 84.92],\n",
              " [18.98, 69.65, 97.69, 51.09, 79.26, 46.33, 83.38],\n",
              " [10.03, 1.17, 39.98, 89.66, 27.2, 1.76, 33.92],\n",
              " [92.46, 99.49, 18.15, 2.4, 71.16, 33.82, 27.5],\n",
              " [74.52, 6.43, 20.25, 71.85, 8.51, 61.35, 15.99],\n",
              " [32.67, 51.97, 60.31, 73.02, 4.94, 62.2, 97.05]]"
            ]
          },
          "metadata": {},
          "execution_count": 1
        }
      ],
      "source": [
        "import random\n",
        "def matriz_aleatoria(filas: int, columnas: int) -> list:\n",
        "    \"\"\"Crea una matriz a partir de una lista\n",
        "    ----------\n",
        "    Parametros:\n",
        "    filas: int\n",
        "        numero de filas de la matriz\n",
        "    columnas: int\n",
        "        numero de columnas de la matriz\n",
        "    \"\"\"\n",
        "    matriz = []\n",
        "    for i in range(filas):\n",
        "        fila = []\n",
        "        for j in range(columnas):\n",
        "            fila.append(round(random.uniform(1, 100), 2))\n",
        "        matriz.append(fila)\n",
        "    return matriz\n",
        "\n",
        "matriz_test = matriz_aleatoria(10,7)\n",
        "matriz_test"
      ]
    },
    {
      "cell_type": "markdown",
      "id": "ab4d73ae",
      "metadata": {
        "id": "ab4d73ae"
      },
      "source": [
        "### 1.2: Normaliza los elementos de la matriz anterior, de modo que todos los valores se encuentren entre 0 y 1\n"
      ]
    },
    {
      "cell_type": "code",
      "execution_count": 2,
      "id": "092cfc9a",
      "metadata": {
        "execution": {
          "iopub.execute_input": "2025-03-19T15:50:53.848227Z",
          "iopub.status.busy": "2025-03-19T15:50:53.847812Z",
          "iopub.status.idle": "2025-03-19T15:50:53.855327Z",
          "shell.execute_reply": "2025-03-19T15:50:53.854662Z",
          "shell.execute_reply.started": "2025-03-19T15:50:53.848199Z"
        },
        "executionRoleArn": "arn:aws:iam::021504464831:role/obdl-pro-esp-ds-explore-emr-ec2-Role",
        "tags": [],
        "colab": {
          "base_uri": "https://localhost:8080/"
        },
        "id": "092cfc9a",
        "outputId": "ffa8e8b1-313e-4965-b66e-6a2ad23927ce"
      },
      "outputs": [
        {
          "output_type": "execute_result",
          "data": {
            "text/plain": [
              "[[0.84, 0.77, 0.92, 0.45, 0.46, 0.41, 0.51],\n",
              " [0.8, 0.91, 0.09, 0.85, 0.85, 0.12, 0.23],\n",
              " [0.71, 0.56, 0.63, 0.96, 0.39, 0.84, 0.98],\n",
              " [0.83, 0.84, 0.35, 0.28, 0.49, 0.31, 0.78],\n",
              " [0.39, 0.2, 0.41, 0.35, 0.38, 0.86, 0.85],\n",
              " [0.19, 0.7, 0.98, 0.51, 0.79, 0.46, 0.83],\n",
              " [0.1, 0.01, 0.4, 0.9, 0.27, 0.02, 0.34],\n",
              " [0.92, 0.99, 0.18, 0.02, 0.71, 0.34, 0.28],\n",
              " [0.75, 0.06, 0.2, 0.72, 0.09, 0.61, 0.16],\n",
              " [0.33, 0.52, 0.6, 0.73, 0.05, 0.62, 0.97]]"
            ]
          },
          "metadata": {},
          "execution_count": 2
        }
      ],
      "source": [
        "def normalizador(matriz):\n",
        "    \"\"\"Normaliza los valores de una matriz\n",
        "    ----------\n",
        "    Parametros:\n",
        "    matriz: list\n",
        "        matriz a normalizar\n",
        "    \"\"\"\n",
        "    matriz_normalizada = []\n",
        "    for fila in matriz:\n",
        "        fila_normalizada = [round(elemento/100,2) for elemento in fila]\n",
        "        matriz_normalizada.append(fila_normalizada)\n",
        "    return matriz_normalizada\n",
        "\n",
        "matriz_test_norm = normalizador(matriz_test)\n",
        "matriz_test_norm"
      ]
    },
    {
      "cell_type": "markdown",
      "id": "53b38fa7",
      "metadata": {
        "id": "53b38fa7"
      },
      "source": [
        "### 1.3: A partir de la matriz normalizada, filtra todos aquellos valores comprendidos entre 0.10 y 0.90\n",
        "El resultado debe ser un vector con dichos valores ordenados descendentemente"
      ]
    },
    {
      "cell_type": "code",
      "execution_count": 3,
      "id": "385daa8e",
      "metadata": {
        "execution": {
          "iopub.execute_input": "2025-03-19T15:51:08.465474Z",
          "iopub.status.busy": "2025-03-19T15:51:08.465040Z",
          "iopub.status.idle": "2025-03-19T15:51:08.471987Z",
          "shell.execute_reply": "2025-03-19T15:51:08.471402Z",
          "shell.execute_reply.started": "2025-03-19T15:51:08.465444Z"
        },
        "executionRoleArn": "arn:aws:iam::021504464831:role/obdl-pro-esp-ds-explore-emr-ec2-Role",
        "tags": [],
        "colab": {
          "base_uri": "https://localhost:8080/"
        },
        "id": "385daa8e",
        "outputId": "e7673146-45e1-43f7-9a39-1e7835e7ece2"
      },
      "outputs": [
        {
          "output_type": "execute_result",
          "data": {
            "text/plain": [
              "[0.86,\n",
              " 0.85,\n",
              " 0.85,\n",
              " 0.85,\n",
              " 0.84,\n",
              " 0.84,\n",
              " 0.84,\n",
              " 0.83,\n",
              " 0.83,\n",
              " 0.8,\n",
              " 0.79,\n",
              " 0.78,\n",
              " 0.77,\n",
              " 0.75,\n",
              " 0.73,\n",
              " 0.72,\n",
              " 0.71,\n",
              " 0.71,\n",
              " 0.7,\n",
              " 0.63,\n",
              " 0.62,\n",
              " 0.61,\n",
              " 0.6,\n",
              " 0.56,\n",
              " 0.52,\n",
              " 0.51,\n",
              " 0.51,\n",
              " 0.49,\n",
              " 0.46,\n",
              " 0.46,\n",
              " 0.45,\n",
              " 0.41,\n",
              " 0.41,\n",
              " 0.4,\n",
              " 0.39,\n",
              " 0.39,\n",
              " 0.38,\n",
              " 0.35,\n",
              " 0.35,\n",
              " 0.34,\n",
              " 0.34,\n",
              " 0.33,\n",
              " 0.31,\n",
              " 0.28,\n",
              " 0.28,\n",
              " 0.27,\n",
              " 0.23,\n",
              " 0.2,\n",
              " 0.2,\n",
              " 0.19,\n",
              " 0.18,\n",
              " 0.16,\n",
              " 0.12]"
            ]
          },
          "metadata": {},
          "execution_count": 3
        }
      ],
      "source": [
        "import pandas as pd\n",
        "def filtro(matriz):\n",
        "    \"\"\"Filtra los valores de una matriz\n",
        "    ----------\n",
        "    Parametros:\n",
        "    matriz: list\n",
        "        matriz a filtrar\n",
        "    \"\"\"\n",
        "    matriz_filtrada = []\n",
        "    for fila in matriz:\n",
        "        for elemento in fila:\n",
        "            if elemento > 0.1 and elemento < 0.9:\n",
        "                matriz_filtrada.append(elemento)\n",
        "    return(sorted(matriz_filtrada, reverse=True))\n",
        "\n",
        "filtro(matriz_test_norm)"
      ]
    },
    {
      "cell_type": "markdown",
      "id": "b02f49bf",
      "metadata": {
        "id": "b02f49bf"
      },
      "source": [
        "## Bloque 2: Exploración de Datos"
      ]
    },
    {
      "cell_type": "markdown",
      "id": "22db0535",
      "metadata": {
        "id": "22db0535"
      },
      "source": [
        "Se dispone de un conjunto de datos que contiene observaciones de vuelos nacionales estadounidenses en 2023, almacenado en el fichero vuelos.csv,  que consta de los siguientes campos:\n",
        "\n",
        "* Fecha: La fecha del vuelo, en formato YYYY-MM-DD\n",
        "* Compañía: La abreviatura de dos letras de la compañía aérea.\n",
        "* AeropuertoOrigenID: Identificador numérico único del aeropuerto de salida.\n",
        "* AeropuertoOrigen: El nombre completo del aeropuerto de salida\n",
        "* AeropuertoDestinoID: Identificador numérico único del aeropuerto de destino\n",
        "* AeropuertoDestino: El nombre completo del aeropuerto de destino\n",
        "* HoraSalidaProgramada: La hora de salida programada\n",
        "* RetrasoSalida: El número de minutos que se retrasó la salida (los vuelos que salieron antes de lo previsto tienen un valor negativo)\n",
        "* SalidaTarde: Un indicador binario de que la salida se retrasó más de 15 minutos (y por lo tanto se considera \"tarde\"). Si se retrasa menos, se considera \"puntual\".\n",
        "* HoraLlegadaProgramada: La hora de llegada programada\n",
        "* RetrasoLlegada: El número de minutos que se retrasó la llegada (el vuelo que llegó antes de lo previsto tiene un valor negativo)\n",
        "* LlegadaTarde: Un indicador binario de que la llegada se retrasó más de 15 minutos (y por lo tanto se considera \"tarde\"). Si se retrasa menos, se considera \"puntual\".\n",
        "* Cancelado: Un indicador binario que indica si l vuelo fue cancelado\n",
        "\n",
        "## El reto consiste en explorar los datos de los vuelos para analizar los posibles factores que afectan a los retrasos en la salida o llegada.\n",
        "\n",
        "### 2.1 Empezaremos por limpiar los datos.\n",
        "* Identifica cualquier dato nulo o faltante, y tratalo convenientemente.\n",
        "* Identifica y elimina cualquier valor atípico (outliers) en las columnas que determinan los retrasos de llegada y salida.\n",
        "### 2.2 Utilice estadísticas, funciones de agregación y visualizaciones para responder a las siguientes preguntas:\n",
        "* ¿Cuáles son los retrasos medios de salida y llegada?\n",
        "* ¿Cómo se comportan las compañías aéreas en cuanto a los retrasos de llegada y salida medios se refiere?\n",
        "* ¿Qué aeropuerto tiene el mayor número de retrasos de salida?\n",
        "\n",
        "<font color=\"#9E1B32\">**(Justifica y explica todas tus respuestas y acciones, con comentarios apropiados.)**</font>\n",
        "\n"
      ]
    },
    {
      "cell_type": "markdown",
      "id": "30095f77-055c-4388-93ad-24ac427fd522",
      "metadata": {
        "executionRoleArn": "arn:aws:iam::021504464831:role/obdl-pro-esp-ds-explore-emr-ec2-Role",
        "tags": [],
        "id": "30095f77-055c-4388-93ad-24ac427fd522"
      },
      "source": [
        "## 2.1 ##"
      ]
    },
    {
      "cell_type": "code",
      "execution_count": 6,
      "id": "78e4a259-0c27-4349-97f0-69ae9c3ef9f3",
      "metadata": {
        "colab": {
          "base_uri": "https://localhost:8080/"
        },
        "id": "78e4a259-0c27-4349-97f0-69ae9c3ef9f3",
        "outputId": "3146505c-10bb-4d12-b469-3b5f759e3782"
      },
      "outputs": [
        {
          "output_type": "stream",
          "name": "stdout",
          "text": [
            "<class 'pandas.core.frame.DataFrame'>\n",
            "RangeIndex: 271940 entries, 0 to 271939\n",
            "Data columns (total 13 columns):\n",
            " #   Column                 Non-Null Count   Dtype  \n",
            "---  ------                 --------------   -----  \n",
            " 0   Fecha                  271940 non-null  object \n",
            " 1   Compañía               271940 non-null  object \n",
            " 2   AeropuertoOrigenID     271940 non-null  int64  \n",
            " 3   AeropuertoOrigen       271940 non-null  object \n",
            " 4   AeropuertoDestinoID    271940 non-null  int64  \n",
            " 5   AeropuertoDestino      271940 non-null  object \n",
            " 6   HoraSalidaProgramada   271940 non-null  int64  \n",
            " 7   RetrasoSalida          271940 non-null  int64  \n",
            " 8   SalidaTarde            269179 non-null  float64\n",
            " 9   HoraLlegadaProgramada  271940 non-null  int64  \n",
            " 10  RetrasoLlegada         271940 non-null  int64  \n",
            " 11  LlegadaTarde           271940 non-null  int64  \n",
            " 12  Cancelado              271940 non-null  int64  \n",
            "dtypes: float64(1), int64(8), object(4)\n",
            "memory usage: 27.0+ MB\n",
            "None\n",
            "HEAD:\n",
            "         Fecha Compañía  AeropuertoOrigenID              AeropuertoOrigen  \\\n",
            "0  2023-09-16       DL               15304           Tampa International   \n",
            "1  2023-09-23       WN               14122      Pittsburgh International   \n",
            "2  2023-09-07       AS               14747  Seattle/Tacoma International   \n",
            "3  2023-07-22       OO               13930  Chicago O'Hare International   \n",
            "4  2023-05-16       DL               13931         Norfolk International   \n",
            "\n",
            "   AeropuertoDestinoID                         AeropuertoDestino  \\\n",
            "0                12478             John F. Kennedy International   \n",
            "1                13232              Chicago Midway International   \n",
            "2                11278         Ronald Reagan Washington National   \n",
            "3                11042           Cleveland-Hopkins International   \n",
            "4                10397  Hartsfield-Jackson Atlanta International   \n",
            "\n",
            "   HoraSalidaProgramada  RetrasoSalida  SalidaTarde  HoraLlegadaProgramada  \\\n",
            "0                  1539              4          0.0                   1824   \n",
            "1                   710              3          0.0                    740   \n",
            "2                   810             -3          0.0                   1614   \n",
            "3                   804             35          1.0                   1027   \n",
            "4                   545             -1          0.0                    728   \n",
            "\n",
            "   RetrasoLlegada  LlegadaTarde  Cancelado  \n",
            "0              13             0          0  \n",
            "1              22             1          0  \n",
            "2              -7             0          0  \n",
            "3              33             1          0  \n",
            "4              -9             0          0  \n",
            "Valores unicos por columna:\n",
            " Fecha                     214\n",
            "Compañía                   16\n",
            "AeropuertoOrigenID         70\n",
            "AeropuertoOrigen           70\n",
            "AeropuertoDestinoID        70\n",
            "AeropuertoDestino          70\n",
            "HoraSalidaProgramada     1208\n",
            "RetrasoSalida             526\n",
            "SalidaTarde                 2\n",
            "HoraLlegadaProgramada    1310\n",
            "RetrasoLlegada            561\n",
            "LlegadaTarde                2\n",
            "Cancelado                   2\n",
            "dtype: int64\n",
            "% NA totales Fecha                    0.00\n",
            "Compañía                 0.00\n",
            "AeropuertoOrigenID       0.00\n",
            "AeropuertoOrigen         0.00\n",
            "AeropuertoDestinoID      0.00\n",
            "AeropuertoDestino        0.00\n",
            "HoraSalidaProgramada     0.00\n",
            "RetrasoSalida            0.00\n",
            "SalidaTarde              1.02\n",
            "HoraLlegadaProgramada    0.00\n",
            "RetrasoLlegada           0.00\n",
            "LlegadaTarde             0.00\n",
            "Cancelado                0.00\n",
            "dtype: float64\n",
            "Valores medios:\n",
            " HoraSalidaProgramada     1325.50\n",
            "RetrasoSalida              10.35\n",
            "SalidaTarde                 0.20\n",
            "HoraLlegadaProgramada    1505.48\n",
            "RetrasoLlegada              6.50\n",
            "LlegadaTarde                0.22\n",
            "Cancelado                   0.01\n",
            "dtype: float64\n",
            "Proporcion de la clase minoritaria:\n",
            " AeropuertoOrigenID        0.28\n",
            "AeropuertoDestinoID       0.27\n",
            "HoraSalidaProgramada      0.00\n",
            "RetrasoSalida             0.00\n",
            "SalidaTarde              19.91\n",
            "HoraLlegadaProgramada     0.00\n",
            "RetrasoLlegada            0.00\n",
            "LlegadaTarde             21.59\n",
            "Cancelado                 1.07\n",
            "dtype: float64\n",
            "Comparacion de valores medios y proporcion de la clase minoritaria después de borrar NAs\n",
            "Diferencia valores medios con NAs vs sin NAs:\n",
            " AeropuertoDestinoID       NaN\n",
            "AeropuertoOrigenID        NaN\n",
            "Cancelado               -0.01\n",
            "HoraLlegadaProgramada   -0.84\n",
            "HoraSalidaProgramada    -1.09\n",
            "LlegadaTarde            -0.01\n",
            "RetrasoLlegada           0.06\n",
            "RetrasoSalida            0.11\n",
            "SalidaTarde              0.00\n",
            "dtype: float64\n",
            "Diferencia proporcion de la clase minoritaria con NAs vs sin NAs:\n",
            " AeropuertoOrigenID       0.00\n",
            "AeropuertoDestinoID      0.01\n",
            "HoraSalidaProgramada     0.00\n",
            "RetrasoSalida            0.00\n",
            "SalidaTarde              0.20\n",
            "HoraLlegadaProgramada    0.00\n",
            "RetrasoLlegada           0.00\n",
            "LlegadaTarde            -0.80\n",
            "Cancelado               -1.01\n",
            "dtype: float64\n",
            "(155, 13)\n",
            "Hay 2761 vuelos cancelados con SalidaTarde NA. Si hacemos un dropna, nos quedan tan solo 155 filas de cancelados, \n",
            " entonces considero mejor asignarle otro valor para el análisis = 2. Con esto no perdemos información ni generamos más \n",
            " desbalanceo en esta variable (Cancelados ya es 1% clase 1's, pasaría a 0.05%) y podemos seguir con el análisis.\n",
            "% NA totales Fecha                    0\n",
            "Compañía                 0\n",
            "AeropuertoOrigenID       0\n",
            "AeropuertoOrigen         0\n",
            "AeropuertoDestinoID      0\n",
            "AeropuertoDestino        0\n",
            "HoraSalidaProgramada     0\n",
            "RetrasoSalida            0\n",
            "SalidaTarde              0\n",
            "HoraLlegadaProgramada    0\n",
            "RetrasoLlegada           0\n",
            "LlegadaTarde             0\n",
            "Cancelado                0\n",
            "dtype: int64\n",
            "<class 'pandas.core.frame.DataFrame'>\n",
            "Index: 246621 entries, 0 to 271939\n",
            "Data columns (total 13 columns):\n",
            " #   Column                 Non-Null Count   Dtype  \n",
            "---  ------                 --------------   -----  \n",
            " 0   Fecha                  246621 non-null  object \n",
            " 1   Compañía               246621 non-null  object \n",
            " 2   AeropuertoOrigenID     246621 non-null  int64  \n",
            " 3   AeropuertoOrigen       246621 non-null  object \n",
            " 4   AeropuertoDestinoID    246621 non-null  int64  \n",
            " 5   AeropuertoDestino      246621 non-null  object \n",
            " 6   HoraSalidaProgramada   246621 non-null  int64  \n",
            " 7   RetrasoSalida          246621 non-null  int64  \n",
            " 8   SalidaTarde            246621 non-null  float64\n",
            " 9   HoraLlegadaProgramada  246621 non-null  int64  \n",
            " 10  RetrasoLlegada         246621 non-null  int64  \n",
            " 11  LlegadaTarde           246621 non-null  int64  \n",
            " 12  Cancelado              246621 non-null  int64  \n",
            "dtypes: float64(1), int64(8), object(4)\n",
            "memory usage: 26.3+ MB\n",
            "None\n",
            "<class 'pandas.core.frame.DataFrame'>\n",
            "Index: 226280 entries, 0 to 271938\n",
            "Data columns (total 13 columns):\n",
            " #   Column                 Non-Null Count   Dtype  \n",
            "---  ------                 --------------   -----  \n",
            " 0   Fecha                  226280 non-null  object \n",
            " 1   Compañía               226280 non-null  object \n",
            " 2   AeropuertoOrigenID     226280 non-null  int64  \n",
            " 3   AeropuertoOrigen       226280 non-null  object \n",
            " 4   AeropuertoDestinoID    226280 non-null  int64  \n",
            " 5   AeropuertoDestino      226280 non-null  object \n",
            " 6   HoraSalidaProgramada   226280 non-null  int64  \n",
            " 7   RetrasoSalida          226280 non-null  int64  \n",
            " 8   SalidaTarde            226280 non-null  float64\n",
            " 9   HoraLlegadaProgramada  226280 non-null  int64  \n",
            " 10  RetrasoLlegada         226280 non-null  int64  \n",
            " 11  LlegadaTarde           226280 non-null  int64  \n",
            " 12  Cancelado              226280 non-null  int64  \n",
            "dtypes: float64(1), int64(8), object(4)\n",
            "memory usage: 24.2+ MB\n",
            "None\n"
          ]
        }
      ],
      "source": [
        "import pandas as pd\n",
        "from pandas.core.interchange.dataframe_protocol import DataFrame\n",
        "\n",
        "# Cambiar por path propio\n",
        "df = pd.read_csv(\"/content/vuelos.csv\")\n",
        "\n",
        "pd.set_option('display.max_columns', None)\n",
        "print(df.info())\n",
        "print(\"HEAD:\\n\",df.head())\n",
        "print(\"Valores unicos por columna:\\n\",df.nunique())\n",
        "\n",
        "na_percentage = df.isna().mean()*100\n",
        "print(\"% NA totales\",round(na_percentage,2))\n",
        "\n",
        "df_numericas = df.select_dtypes(include=['float64', 'int64'])\n",
        "\n",
        "means = df_numericas.drop(columns=[\"AeropuertoOrigenID\", \"AeropuertoDestinoID\"]).mean()\n",
        "print(\"Valores medios:\\n\",round(means,2))\n",
        "\n",
        "value_counts_numeric_columns = df_numericas.apply(lambda x: x.value_counts())\n",
        "total_count = len(df)\n",
        "minority_class_percentage = (value_counts_numeric_columns.min() / total_count) * 100\n",
        "print(\"Proporcion de la clase minoritaria:\\n\",round(minority_class_percentage,2))\n",
        "\n",
        "print(\"Comparacion de valores medios y proporcion de la clase minoritaria después de borrar NAs\")\n",
        "print(\"Diferencia valores medios con NAs vs sin NAs:\\n\",round(df_numericas.drop(columns=[\"AeropuertoOrigenID\", \"AeropuertoDestinoID\"]).dropna().mean(),2) - round(df_numericas.mean(),2))\n",
        "print(\"Diferencia proporcion de la clase minoritaria con NAs vs sin NAs:\\n\",round((df_numericas.dropna().apply(lambda x: x.value_counts()).min() / len(df_numericas.dropna())) * 100,2) - round(minority_class_percentage,2))\n",
        "print(df[(df[\"Cancelado\"]==1) & ((df[\"SalidaTarde\"]==0) | (df[\"SalidaTarde\"]==1))].shape)\n",
        "\n",
        "print(\"Hay 2761 vuelos cancelados con SalidaTarde NA. Si hacemos un dropna, nos quedan tan solo 155 filas de cancelados, \\n entonces considero mejor asignarle otro valor para el análisis = 2. Con esto no perdemos información ni generamos más \\n desbalanceo en esta variable (Cancelados ya es 1% clase 1's, pasaría a 0.05%) y podemos seguir con el análisis.\")\n",
        "df_sin_na = df.fillna(2)\n",
        "na_total = df_sin_na.isna().sum()\n",
        "print(\"% NA totales\",round(na_total,2))\n",
        "\n",
        "def sin_atipicos(df: DataFrame, columna: str) -> DataFrame:\n",
        "    \"\"\"\n",
        "    Eliminar atipicos de una columna del Dataframe\n",
        "    Parametros\n",
        "    ----------\n",
        "    df:\n",
        "        Dataframe de entrada\n",
        "    columna:\n",
        "        string con el nombre de la columna a filtrar\n",
        "\n",
        "    Devuelve\n",
        "    -------\n",
        "    df_filtrado\n",
        "        DataFrame sin atipicos\n",
        "    \"\"\"\n",
        "    Q1 = df[columna].quantile(0.25)\n",
        "    Q3 = df[columna].quantile(0.75)\n",
        "    IQR = Q3 - Q1\n",
        "    limite_inf = Q1 - 1.5 * IQR\n",
        "    limite_sup = Q3 + 1.5 * IQR\n",
        "    df_filtrado = df[(df[columna] >= limite_inf) & (df[columna] <= limite_sup)]\n",
        "    return df_filtrado\n",
        "\n",
        "df_limpio_llegada = sin_atipicos(df_sin_na, \"RetrasoLlegada\")\n",
        "print(df_limpio_llegada.info())\n",
        "\n",
        "df_limpio_lleg_sal = sin_atipicos(df_limpio_llegada, \"RetrasoSalida\")\n",
        "print(df_limpio_lleg_sal.info())"
      ]
    },
    {
      "cell_type": "markdown",
      "id": "cc372f2f-1dce-4ae0-8b05-05ac0af18e54",
      "metadata": {
        "id": "cc372f2f-1dce-4ae0-8b05-05ac0af18e54"
      },
      "source": [
        "## 2.2 ##"
      ]
    },
    {
      "cell_type": "code",
      "execution_count": 7,
      "id": "f9b70ca8-d6c1-4092-8fef-0e905ba382e7",
      "metadata": {
        "colab": {
          "base_uri": "https://localhost:8080/"
        },
        "id": "f9b70ca8-d6c1-4092-8fef-0e905ba382e7",
        "outputId": "c033a7d5-25f0-4ffa-e112-ab6137f81e99"
      },
      "outputs": [
        {
          "output_type": "stream",
          "name": "stdout",
          "text": [
            "Valores medios de retrasos:\n",
            " RetrasoSalida    -0.55\n",
            "RetrasoLlegada   -4.86\n",
            "dtype: float64\n",
            "Retrasos medios por compañía           RetrasoSalida  RetrasoLlegada\n",
            "Compañía                               \n",
            "9E            -2.691837       -7.577078\n",
            "AA            -0.460496       -5.857692\n",
            "AS            -3.499522       -4.302611\n",
            "B6            -2.156412       -5.921184\n",
            "DL            -1.217042       -6.443503\n",
            "EV            -2.144199       -6.785970\n",
            "F9            -0.151877       -0.136519\n",
            "FL             0.097396       -3.528849\n",
            "HA            -3.038997       -2.601671\n",
            "MQ            -1.408908       -3.995188\n",
            "OO            -2.355856       -4.120307\n",
            "UA            -0.019288       -7.923060\n",
            "US            -2.207311       -3.850521\n",
            "VX            -0.682682       -5.507086\n",
            "WN             2.699462       -2.124086\n",
            "YV            -2.415935       -3.773126\n",
            "El aeropuerto con mayor número de retrasos de salida es: Hartsfield-Jackson Atlanta International con 4009 vuelos retrasados.\n"
          ]
        }
      ],
      "source": [
        "# ¿Cuáles son los retrasos medios de salida y llegada?\n",
        "df_numericas = df_limpio_lleg_sal.select_dtypes(include=['float64', 'int64'])\n",
        "means = df_numericas.drop(columns=[\"AeropuertoOrigenID\", \"AeropuertoDestinoID\"]).mean()\n",
        "print(\"Valores medios de retrasos:\\n\",round(means[[\"RetrasoSalida\",\"RetrasoLlegada\"]],2))\n",
        "\n",
        "#¿Cómo se comportan las compañías aéreas en cuanto a los retrasos de llegada y salida medios se refiere?\n",
        "retrasos_medios_por_compania = df_limpio_lleg_sal.groupby(\"Compañía\")[[\"RetrasoSalida\", \"RetrasoLlegada\"]].mean()\n",
        "print(\"Retrasos medios por compañía\",retrasos_medios_por_compania)\n",
        "\n",
        "# ¿Qué aeropuerto tiene el mayor número de retrasos de salida?\n",
        "retrasos_por_aeropuerto = df_limpio_lleg_sal[df_limpio_lleg_sal[\"RetrasoSalida\"] > 0].groupby(\"AeropuertoOrigen\")[\"RetrasoSalida\"].count()\n",
        "aeropuerto_con_mas_retrasos = retrasos_por_aeropuerto.idxmax()\n",
        "numero_de_retrasos = retrasos_por_aeropuerto.max()\n",
        "\n",
        "print(f\"El aeropuerto con mayor número de retrasos de salida es: {aeropuerto_con_mas_retrasos} con {numero_de_retrasos} vuelos retrasados.\")"
      ]
    },
    {
      "cell_type": "markdown",
      "id": "9b8587e6-c6a7-4711-99d7-6d769bd6f02d",
      "metadata": {
        "id": "9b8587e6-c6a7-4711-99d7-6d769bd6f02d"
      },
      "source": [
        "Opcional Graficar tabla retrasos_medios_por_compania"
      ]
    },
    {
      "cell_type": "code",
      "execution_count": 8,
      "id": "23712e0e-1f6c-498f-8209-cc496ff0a8eb",
      "metadata": {
        "colab": {
          "base_uri": "https://localhost:8080/",
          "height": 481
        },
        "id": "23712e0e-1f6c-498f-8209-cc496ff0a8eb",
        "outputId": "8d926a5e-8b9c-4f87-eac8-5d7e25552d52"
      },
      "outputs": [
        {
          "output_type": "display_data",
          "data": {
            "text/plain": [
              "<Figure size 640x480 with 1 Axes>"
            ],
            "image/png": "[encoded data removed]"
          },
          "metadata": {}
        }
      ],
      "source": [
        "# Grafico\n",
        "import seaborn as sns\n",
        "import matplotlib.pyplot as plt\n",
        "sns.set(style=\"whitegrid\")\n",
        "\n",
        "ax1 = sns.barplot(x=retrasos_medios_por_compania.index, y=\"RetrasoSalida\", data=retrasos_medios_por_compania, color='blue', label='Retraso Salida')\n",
        "ax2 = sns.barplot(x=retrasos_medios_por_compania.index, y=\"RetrasoLlegada\", data=retrasos_medios_por_compania, color='red', alpha=0.5, label='Retraso Llegada')\n",
        "\n",
        "plt.xlabel('Compañía')\n",
        "plt.ylabel('Promedio de Retraso (minutos)')\n",
        "plt.title('Promedio de Retrasos de Salida y Llegada por Compañía')\n",
        "plt.xticks(rotation=45)\n",
        "plt.legend()\n",
        "\n",
        "plt.tight_layout()\n",
        "plt.show()"
      ]
    }
  ],
  "metadata": {
    "kernelspec": {
      "display_name": "Python 3",
      "language": "python",
      "name": "python3_toledo"
    },
    "language_info": {
      "codemirror_mode": {
        "name": "ipython",
        "version": 3
      },
      "file_extension": ".py",
      "mimetype": "text/x-python",
      "name": "python",
      "nbconvert_exporter": "python",
      "pygments_lexer": "ipython3",
      "version": "3.9.16"
    },
    "colab": {
      "provenance": []
    }
  },
  "nbformat": 4,
  "nbformat_minor": 5
}