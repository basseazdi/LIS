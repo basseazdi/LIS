{
 "cells": [
  {
   "cell_type": "markdown",
   "id": "91a4d198",
   "metadata": {},
   "source": [
    "# Prueba Técnica DS\n",
    "\n",
    "El proposito de esta prueba técnica es comprobar si el candidato posee conocimientos de Python (básico y aplicados a ML). Desde Python 3, aconsejamos usar las siguientes librerias (salvo que se indique lo contrario): **numpy, pandas, matplotlib**\n",
    "\n"
   ]
  },
  {
   "cell_type": "markdown",
   "id": "e294cb01",
   "metadata": {},
   "source": [
    "## Bloque 1: Python general"
   ]
  },
  {
   "cell_type": "markdown",
   "id": "c28d98a3",
   "metadata": {},
   "source": [
    "### 1.1: Escribe una función que te devuelva una matriz de números aleatorios entre 1 y 100 con 2 decimales. El número de filas y columnas de la matriz será determinado por sendos parámetros. Utiliza la función para crear una matriz de 10 filas y 7 columnas.\n",
    "<font color=\"#9E1B32\">**(No utilices NUMPY ni PANDAS en este apartado 1.1, en los demás puedes usarlo)**</font>\n"
   ]
  },
  {
   "cell_type": "code",
   "execution_count": 1,
   "id": "aa7d50ee",
   "metadata": {
    "execution": {
     "iopub.execute_input": "2025-03-19T15:50:51.447471Z",
     "iopub.status.busy": "2025-03-19T15:50:51.447034Z",
     "iopub.status.idle": "2025-03-19T15:50:51.460818Z",
     "shell.execute_reply": "2025-03-19T15:50:51.460205Z",
     "shell.execute_reply.started": "2025-03-19T15:50:51.447440Z"
    },
    "executionRoleArn": "arn:aws:iam::021504464831:role/obdl-pro-esp-ds-explore-emr-ec2-Role",
    "tags": []
   },
   "outputs": [
    {
     "data": {
      "text/plain": [
       "[[74.08, 93.43, 76.9, 83.29, 56.09, 20.97, 63.46],\n",
       " [64.57, 37.7, 3.89, 43.9, 36.8, 74.79, 45.65],\n",
       " [98.09, 72.2, 97.88, 91.81, 72.1, 54.57, 20.28],\n",
       " [18.02, 50.11, 35.11, 69.32, 98.38, 96.56, 30.13],\n",
       " [53.16, 24.77, 99.49, 74.35, 74.18, 38.68, 34.04],\n",
       " [96.49, 52.07, 41.01, 57.15, 78.35, 89.21, 21.21],\n",
       " [10.45, 64.26, 82.7, 41.91, 18.73, 9.35, 22.97],\n",
       " [21.59, 57.42, 55.62, 47.46, 39.51, 7.42, 65.34],\n",
       " [87.91, 54.72, 11.12, 22.66, 3.7, 55.37, 45.38],\n",
       " [36.82, 49.68, 79.32, 42.79, 88.49, 96.76, 41.97]]"
      ]
     },
     "execution_count": 1,
     "metadata": {},
     "output_type": "execute_result"
    }
   ],
   "source": [
    "import random\n",
    "def matriz_aleatoria(filas: int, columnas: int) -> list:\n",
    "    \"\"\"Crea una matriz a partir de una lista\n",
    "    ----------\n",
    "    Parametros:\n",
    "    filas: int\n",
    "        numero de filas de la matriz\n",
    "    columnas: int\n",
    "        numero de columnas de la matriz\n",
    "    \"\"\"\n",
    "    matriz = []\n",
    "    for i in range(filas):\n",
    "        fila = []\n",
    "        for j in range(columnas):\n",
    "            fila.append(round(random.uniform(1, 100), 2))\n",
    "        matriz.append(fila)\n",
    "    return matriz\n",
    "\n",
    "matriz_test = matriz_aleatoria(10,7)\n",
    "matriz_test"
   ]
  },
  {
   "cell_type": "markdown",
   "id": "ab4d73ae",
   "metadata": {},
   "source": [
    "### 1.2: Normaliza los elementos de la matriz anterior, de modo que todos los valores se encuentren entre 0 y 1\n"
   ]
  },
  {
   "cell_type": "code",
   "execution_count": 2,
   "id": "092cfc9a",
   "metadata": {
    "execution": {
     "iopub.execute_input": "2025-03-19T15:50:53.848227Z",
     "iopub.status.busy": "2025-03-19T15:50:53.847812Z",
     "iopub.status.idle": "2025-03-19T15:50:53.855327Z",
     "shell.execute_reply": "2025-03-19T15:50:53.854662Z",
     "shell.execute_reply.started": "2025-03-19T15:50:53.848199Z"
    },
    "executionRoleArn": "arn:aws:iam::021504464831:role/obdl-pro-esp-ds-explore-emr-ec2-Role",
    "tags": []
   },
   "outputs": [
    {
     "data": {
      "text/plain": [
       "[[0.74, 0.93, 0.77, 0.83, 0.56, 0.21, 0.63],\n",
       " [0.65, 0.38, 0.04, 0.44, 0.37, 0.75, 0.46],\n",
       " [0.98, 0.72, 0.98, 0.92, 0.72, 0.55, 0.2],\n",
       " [0.18, 0.5, 0.35, 0.69, 0.98, 0.97, 0.3],\n",
       " [0.53, 0.25, 0.99, 0.74, 0.74, 0.39, 0.34],\n",
       " [0.96, 0.52, 0.41, 0.57, 0.78, 0.89, 0.21],\n",
       " [0.1, 0.64, 0.83, 0.42, 0.19, 0.09, 0.23],\n",
       " [0.22, 0.57, 0.56, 0.47, 0.4, 0.07, 0.65],\n",
       " [0.88, 0.55, 0.11, 0.23, 0.04, 0.55, 0.45],\n",
       " [0.37, 0.5, 0.79, 0.43, 0.88, 0.97, 0.42]]"
      ]
     },
     "execution_count": 2,
     "metadata": {},
     "output_type": "execute_result"
    }
   ],
   "source": [
    "def normalizador(matriz):\n",
    "    \"\"\"Normaliza los valores de una matriz\n",
    "    ----------\n",
    "    Parametros:\n",
    "    matriz: list\n",
    "        matriz a normalizar\n",
    "    \"\"\"\n",
    "    matriz_normalizada = []\n",
    "    for fila in matriz:\n",
    "        fila_normalizada = [round(elemento/100,2) for elemento in fila]\n",
    "        matriz_normalizada.append(fila_normalizada)\n",
    "    return matriz_normalizada\n",
    "\n",
    "matriz_test_norm = normalizador(matriz_test)\n",
    "matriz_test_norm"
   ]
  },
  {
   "cell_type": "markdown",
   "id": "53b38fa7",
   "metadata": {},
   "source": [
    "### 1.3: A partir de la matriz normalizada, filtra todos aquellos valores comprendidos entre 0.10 y 0.90\n",
    "El resultado debe ser un vector con dichos valores ordenados descendentemente"
   ]
  },
  {
   "cell_type": "code",
   "execution_count": 3,
   "id": "385daa8e",
   "metadata": {
    "execution": {
     "iopub.execute_input": "2025-03-19T15:51:08.465474Z",
     "iopub.status.busy": "2025-03-19T15:51:08.465040Z",
     "iopub.status.idle": "2025-03-19T15:51:08.471987Z",
     "shell.execute_reply": "2025-03-19T15:51:08.471402Z",
     "shell.execute_reply.started": "2025-03-19T15:51:08.465444Z"
    },
    "executionRoleArn": "arn:aws:iam::021504464831:role/obdl-pro-esp-ds-explore-emr-ec2-Role",
    "tags": []
   },
   "outputs": [
    {
     "data": {
      "text/plain": [
       "[0.89,\n",
       " 0.88,\n",
       " 0.88,\n",
       " 0.83,\n",
       " 0.83,\n",
       " 0.79,\n",
       " 0.78,\n",
       " 0.77,\n",
       " 0.75,\n",
       " 0.74,\n",
       " 0.74,\n",
       " 0.74,\n",
       " 0.72,\n",
       " 0.72,\n",
       " 0.69,\n",
       " 0.65,\n",
       " 0.65,\n",
       " 0.64,\n",
       " 0.63,\n",
       " 0.57,\n",
       " 0.57,\n",
       " 0.56,\n",
       " 0.56,\n",
       " 0.55,\n",
       " 0.55,\n",
       " 0.55,\n",
       " 0.53,\n",
       " 0.52,\n",
       " 0.5,\n",
       " 0.5,\n",
       " 0.47,\n",
       " 0.46,\n",
       " 0.45,\n",
       " 0.44,\n",
       " 0.43,\n",
       " 0.42,\n",
       " 0.42,\n",
       " 0.41,\n",
       " 0.4,\n",
       " 0.39,\n",
       " 0.38,\n",
       " 0.37,\n",
       " 0.37,\n",
       " 0.35,\n",
       " 0.34,\n",
       " 0.3,\n",
       " 0.25,\n",
       " 0.23,\n",
       " 0.23,\n",
       " 0.22,\n",
       " 0.21,\n",
       " 0.21,\n",
       " 0.2,\n",
       " 0.19,\n",
       " 0.18,\n",
       " 0.11]"
      ]
     },
     "execution_count": 3,
     "metadata": {},
     "output_type": "execute_result"
    }
   ],
   "source": [
    "import pandas as pd\n",
    "def filtro(matriz):\n",
    "    \"\"\"Filtra los valores de una matriz\n",
    "    ----------\n",
    "    Parametros:\n",
    "    matriz: list\n",
    "        matriz a filtrar\n",
    "    \"\"\"\n",
    "    matriz_filtrada = []\n",
    "    for fila in matriz:\n",
    "        for elemento in fila:\n",
    "            if elemento > 0.1 and elemento < 0.9:\n",
    "                matriz_filtrada.append(elemento)\n",
    "    return(sorted(matriz_filtrada, reverse=True))\n",
    "    \n",
    "filtro(matriz_test_norm)"
   ]
  },
  {
   "cell_type": "markdown",
   "id": "b02f49bf",
   "metadata": {},
   "source": [
    "## Bloque 2: Exploración de Datos"
   ]
  },
  {
   "cell_type": "markdown",
   "id": "22db0535",
   "metadata": {},
   "source": [
    "Se dispone de un conjunto de datos que contiene observaciones de vuelos nacionales estadounidenses en 2023, almacenado en el fichero vuelos.csv,  que consta de los siguientes campos:\n",
    "\n",
    "* Fecha: La fecha del vuelo, en formato YYYY-MM-DD\n",
    "* Compañía: La abreviatura de dos letras de la compañía aérea.\n",
    "* AeropuertoOrigenID: Identificador numérico único del aeropuerto de salida.\n",
    "* AeropuertoOrigen: El nombre completo del aeropuerto de salida\n",
    "* AeropuertoDestinoID: Identificador numérico único del aeropuerto de destino\n",
    "* AeropuertoDestino: El nombre completo del aeropuerto de destino\n",
    "* HoraSalidaProgramada: La hora de salida programada\n",
    "* RetrasoSalida: El número de minutos que se retrasó la salida (los vuelos que salieron antes de lo previsto tienen un valor negativo)\n",
    "* SalidaTarde: Un indicador binario de que la salida se retrasó más de 15 minutos (y por lo tanto se considera \"tarde\"). Si se retrasa menos, se considera \"puntual\".\n",
    "* HoraLlegadaProgramada: La hora de llegada programada\n",
    "* RetrasoLlegada: El número de minutos que se retrasó la llegada (el vuelo que llegó antes de lo previsto tiene un valor negativo)\n",
    "* LlegadaTarde: Un indicador binario de que la llegada se retrasó más de 15 minutos (y por lo tanto se considera \"tarde\"). Si se retrasa menos, se considera \"puntual\".\n",
    "* Cancelado: Un indicador binario que indica si l vuelo fue cancelado\n",
    "\n",
    "## El reto consiste en explorar los datos de los vuelos para analizar los posibles factores que afectan a los retrasos en la salida o llegada.\n",
    "\n",
    "### 2.1 Empezaremos por limpiar los datos.\n",
    "* Identifica cualquier dato nulo o faltante, y tratalo convenientemente.\n",
    "* Identifica y elimina cualquier valor atípico (outliers) en las columnas que determinan los retrasos de llegada y salida.\n",
    "### 2.2 Utilice estadísticas, funciones de agregación y visualizaciones para responder a las siguientes preguntas:\n",
    "* ¿Cuáles son los retrasos medios de salida y llegada?\n",
    "* ¿Cómo se comportan las compañías aéreas en cuanto a los retrasos de llegada y salida medios se refiere?\n",
    "* ¿Qué aeropuerto tiene el mayor número de retrasos de salida?\n",
    "\n",
    "<font color=\"#9E1B32\">**(Justifica y explica todas tus respuestas y acciones, con comentarios apropiados.)**</font>\n",
    "\n"
   ]
  },
  {
   "cell_type": "markdown",
   "id": "30095f77-055c-4388-93ad-24ac427fd522",
   "metadata": {
    "executionRoleArn": "arn:aws:iam::021504464831:role/obdl-pro-esp-ds-explore-emr-ec2-Role",
    "tags": []
   },
   "source": [
    "## 2.1 ##"
   ]
  },
  {
   "cell_type": "code",
   "execution_count": null,
   "id": "78e4a259-0c27-4349-97f0-69ae9c3ef9f3",
   "metadata": {},
   "outputs": [],
   "source": [
    "import pandas as pd\n",
    "from pandas.core.interchange.dataframe_protocol import DataFrame\n",
    "\n",
    "# Cambiar por path propio\n",
    "csv_path = \"/Users/N890087/Git/SCI-config_campaignreporting/config_campaignreporting/reports/diccionario/vuelos.csv\"\n",
    "\n",
    "df = pd.read_csv(csv_path)\n",
    "\n",
    "pd.set_option('display.max_columns', None)\n",
    "print(df.info())\n",
    "print(\"HEAD:\\n\",df.head())\n",
    "print(\"Valores unicos por columna:\\n\",df.nunique())\n",
    "\n",
    "na_percentage = df.isna().mean()*100\n",
    "print(\"% NA totales\",round(na_percentage,2))\n",
    "\n",
    "df_numericas = df.select_dtypes(include=['float64', 'int64'])\n",
    "\n",
    "means = df_numericas.drop(columns=[\"AeropuertoOrigenID\", \"AeropuertoDestinoID\"]).mean()\n",
    "print(\"Valores medios:\\n\",round(means,2))\n",
    "\n",
    "value_counts_numeric_columns = df_numericas.apply(lambda x: x.value_counts())\n",
    "total_count = len(df)\n",
    "minority_class_percentage = (value_counts_numeric_columns.min() / total_count) * 100\n",
    "print(\"Proporcion de la clase minoritaria:\\n\",round(minority_class_percentage,2))\n",
    "\n",
    "print(\"Comparacion de valores medios y proporcion de la clase minoritaria después de borrar NAs\")\n",
    "print(\"Diferencia valores medios con NAs vs sin NAs:\\n\",round(df_numericas.drop(columns=[\"AeropuertoOrigenID\", \"AeropuertoDestinoID\"]).dropna().mean(),2) - round(df_numericas.mean(),2))\n",
    "print(\"Diferencia proporcion de la clase minoritaria con NAs vs sin NAs:\\n\",round((df_numericas.dropna().apply(lambda x: x.value_counts()).min() / len(df_numericas.dropna())) * 100,2) - round(minority_class_percentage,2))\n",
    "print(df[(df[\"Cancelado\"]==1) & ((df[\"SalidaTarde\"]==0) | (df[\"SalidaTarde\"]==1))].shape)\n",
    "\n",
    "print(\"Hay 2761 vuelos cancelados con SalidaTarde NA. Si hacemos un dropna, nos quedan tan solo 155 filas de cancelados, \\n entonces considero mejor asignarle otro valor para el análisis = 2. Con esto no perdemos información ni generamos más \\n desbalanceo en esta variable (Cancelados ya es 1% clase 1's, pasaría a 0.05%) y podemos seguir con el análisis.\")\n",
    "df_sin_na = df.fillna(2)\n",
    "na_total = df_sin_na.isna().sum()\n",
    "print(\"% NA totales\",round(na_total,2))\n",
    "\n",
    "def sin_atipicos(df: DataFrame, columna: str) -> DataFrame:\n",
    "    \"\"\"\n",
    "    Eliminar atipicos de una columna del Dataframe\n",
    "    Parametros\n",
    "    ----------\n",
    "    df:\n",
    "        Dataframe de entrada\n",
    "    columna:\n",
    "        string con el nombre de la columna a filtrar\n",
    "\n",
    "    Devuelve\n",
    "    -------\n",
    "    df_filtrado\n",
    "        DataFrame sin atipicos\n",
    "    \"\"\"\n",
    "    Q1 = df[columna].quantile(0.25)\n",
    "    Q3 = df[columna].quantile(0.75)\n",
    "    IQR = Q3 - Q1\n",
    "    limite_inf = Q1 - 1.5 * IQR\n",
    "    limite_sup = Q3 + 1.5 * IQR\n",
    "    df_filtrado = df[(df[columna] >= limite_inf) & (df[columna] <= limite_sup)]\n",
    "    return df_filtrado\n",
    "\n",
    "df_limpio_llegada = sin_atipicos(df_sin_na, \"RetrasoLlegada\")\n",
    "print(df_limpio_llegada.info())\n",
    "\n",
    "df_limpio_lleg_sal = sin_atipicos(df_limpio_llegada, \"RetrasoSalida\")\n",
    "print(df_limpio_lleg_sal.info())"
   ]
  },
  {
   "cell_type": "markdown",
   "id": "cc372f2f-1dce-4ae0-8b05-05ac0af18e54",
   "metadata": {},
   "source": [
    "## 2.2 ##"
   ]
  },
  {
   "cell_type": "code",
   "execution_count": null,
   "id": "f9b70ca8-d6c1-4092-8fef-0e905ba382e7",
   "metadata": {},
   "outputs": [],
   "source": [
    "# ¿Cuáles son los retrasos medios de salida y llegada?\n",
    "df_numericas = df_limpio_lleg_sal.select_dtypes(include=['float64', 'int64'])\n",
    "means = df_numericas.drop(columns=[\"AeropuertoOrigenID\", \"AeropuertoDestinoID\"]).mean()\n",
    "print(\"Valores medios de retrasos:\\n\",round(means[[\"RetrasoSalida\",\"RetrasoLlegada\"]],2))\n",
    "\n",
    "#¿Cómo se comportan las compañías aéreas en cuanto a los retrasos de llegada y salida medios se refiere?\n",
    "retrasos_medios_por_compania = df_limpio_lleg_sal.groupby(\"Compañía\")[[\"RetrasoSalida\", \"RetrasoLlegada\"]].mean()\n",
    "print(\"Retrasos medios por compañía\",retrasos_medios_por_compania)\n",
    "\n",
    "# ¿Qué aeropuerto tiene el mayor número de retrasos de salida?\n",
    "retrasos_por_aeropuerto = df_limpio_lleg_sal[df_limpio_lleg_sal[\"RetrasoSalida\"] > 0].groupby(\"AeropuertoOrigen\")[\"RetrasoSalida\"].count()\n",
    "aeropuerto_con_mas_retrasos = retrasos_por_aeropuerto.idxmax()\n",
    "numero_de_retrasos = retrasos_por_aeropuerto.max()\n",
    "\n",
    "print(f\"El aeropuerto con mayor número de retrasos de salida es: {aeropuerto_con_mas_retrasos} con {numero_de_retrasos} vuelos retrasados.\")"
   ]
  },
  {
   "cell_type": "markdown",
   "id": "9b8587e6-c6a7-4711-99d7-6d769bd6f02d",
   "metadata": {},
   "source": [
    "Opcional Graficar tabla retrasos_medios_por_compania"
   ]
  },
  {
   "cell_type": "code",
   "execution_count": null,
   "id": "23712e0e-1f6c-498f-8209-cc496ff0a8eb",
   "metadata": {},
   "outputs": [],
   "source": [
    "# Grafico\n",
    "plt.figure(figsize=(12, 8))\n",
    "sns.set(style=\"whitegrid\")\n",
    "retrasos_medios_por_compania = retrasos_medios_por_compania.set_index(\"Compañía\")\n",
    "\n",
    "ax1 = sns.barplot(x=retrasos_medios_por_compania.index, y=\"RetrasoSalida\", data=retrasos_medios_por_compania, color='blue', label='Retraso Salida')\n",
    "ax2 = sns.barplot(x=retrasos_medios_por_compania.index, y=\"RetrasoLlegada\", data=retrasos_medios_por_compania, color='red', alpha=0.5, label='Retraso Llegada')\n",
    "\n",
    "plt.xlabel('Compañía')\n",
    "plt.ylabel('Promedio de Retraso (minutos)')\n",
    "plt.title('Promedio de Retrasos de Salida y Llegada por Compañía')\n",
    "plt.xticks(rotation=45)\n",
    "plt.legend()\n",
    "\n",
    "plt.tight_layout()\n",
    "plt.show()"
   ]
  }
 ],
 "metadata": {
  "kernelspec": {
   "display_name": "Python 3",
   "language": "python",
   "name": "python3_toledo"
  },
  "language_info": {
   "codemirror_mode": {
    "name": "ipython",
    "version": 3
   },
   "file_extension": ".py",
   "mimetype": "text/x-python",
   "name": "python",
   "nbconvert_exporter": "python",
   "pygments_lexer": "ipython3",
   "version": "3.9.16"
  }
 },
 "nbformat": 4,
 "nbformat_minor": 5
}
